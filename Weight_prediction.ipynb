{
  "nbformat": 4,
  "nbformat_minor": 0,
  "metadata": {
    "colab": {
      "name": "Weight prediction.ipynb",
      "provenance": []
    },
    "kernelspec": {
      "name": "python3",
      "display_name": "Python 3"
    },
    "language_info": {
      "name": "python"
    }
  },
  "cells": [
    {
      "cell_type": "code",
      "metadata": {
        "id": "413cG9_fA0OX"
      },
      "source": [
        "# importing the libraries\n",
        "import pandas as pd\n",
        "import matplotlib.pyplot as plt\n",
        "import numpy as np\n",
        "import math\n",
        "from sklearn.model_selection import train_test_split\n",
        "from sklearn.linear_model import LinearRegression\n"
      ],
      "execution_count": 1,
      "outputs": []
    },
    {
      "cell_type": "code",
      "metadata": {
        "id": "4fh8MjP5CqMN"
      },
      "source": [
        "# importing data set\n",
        "dataset = pd.read_csv('Height_Weight.csv')\n",
        "X = dataset.iloc[:,1:]\n",
        "y = dataset.iloc[:,0:1]\n"
      ],
      "execution_count": 2,
      "outputs": []
    },
    {
      "cell_type": "code",
      "metadata": {
        "colab": {
          "base_uri": "https://localhost:8080/"
        },
        "id": "KuGO-QEbCqOz",
        "outputId": "f4c9f55c-fdf2-4816-bf18-e30199455fb4"
      },
      "source": [
        "# checking for null values if any\n",
        "dataset.isnull().any()"
      ],
      "execution_count": 3,
      "outputs": [
        {
          "output_type": "execute_result",
          "data": {
            "text/plain": [
              "Weight    False\n",
              "Height    False\n",
              "dtype: bool"
            ]
          },
          "metadata": {},
          "execution_count": 3
        }
      ]
    },
    {
      "cell_type": "code",
      "metadata": {
        "id": "7k9Uhdk1CqRx"
      },
      "source": [
        "# Splitting the dataset into test set and training set\n",
        "X_train, X_test, y_train, y_test = train_test_split(X,y,test_size=1/3,random_state = 0)"
      ],
      "execution_count": 4,
      "outputs": []
    },
    {
      "cell_type": "code",
      "metadata": {
        "colab": {
          "base_uri": "https://localhost:8080/"
        },
        "id": "L-Th8nzrCqUp",
        "outputId": "9b53bc3f-3e0c-4c68-dee3-c5ab271925b7"
      },
      "source": [
        "# Fitting the Model \n",
        "regressor = LinearRegression()\n",
        "regressor.fit(X_train,y_train)"
      ],
      "execution_count": 5,
      "outputs": [
        {
          "output_type": "execute_result",
          "data": {
            "text/plain": [
              "LinearRegression(copy_X=True, fit_intercept=True, n_jobs=None, normalize=False)"
            ]
          },
          "metadata": {},
          "execution_count": 5
        }
      ]
    },
    {
      "cell_type": "code",
      "metadata": {
        "colab": {
          "base_uri": "https://localhost:8080/"
        },
        "id": "8I6xVRGoCqXf",
        "outputId": "2743ad10-f67d-4fc0-c161-7542a6fc1643"
      },
      "source": [
        "# Calculation R square and Correlation\n",
        "print('R square = ',regressor.score(X_train,y_train))\n",
        "print('Correlation = ',math.sqrt(regressor.score(X_train,y_train)))"
      ],
      "execution_count": 6,
      "outputs": [
        {
          "output_type": "stream",
          "name": "stdout",
          "text": [
            "R square =  0.9930075151638939\n",
            "Correlation =  0.9964976242640491\n"
          ]
        }
      ]
    },
    {
      "cell_type": "code",
      "metadata": {
        "id": "4RvsuRp7CqaL"
      },
      "source": [
        "# Prediciting Height\n",
        "y_pred = regressor.predict(X_train)"
      ],
      "execution_count": 7,
      "outputs": []
    },
    {
      "cell_type": "code",
      "metadata": {
        "colab": {
          "base_uri": "https://localhost:8080/",
          "height": 295
        },
        "id": "4G-D8t9wCqdm",
        "outputId": "535dd521-2a4f-4872-8302-de66a3c8dab0"
      },
      "source": [
        "# Visualising the Training set\n",
        "plt.scatter(X_train,y_train,color='red')\n",
        "plt.plot(X_train, regressor.predict(X_train),color='blue')\n",
        "plt.title('Training Set')\n",
        "plt.xlabel('Weight')\n",
        "plt.ylabel('Height')\n",
        "plt.show()"
      ],
      "execution_count": 8,
      "outputs": [
        {
          "output_type": "display_data",
          "data": {
            "image/png": "[encoded data removed]",
            "text/plain": [
              "<Figure size 432x288 with 1 Axes>"
            ]
          },
          "metadata": {
            "needs_background": "light"
          }
        }
      ]
    },
    {
      "cell_type": "code",
      "metadata": {
        "colab": {
          "base_uri": "https://localhost:8080/",
          "height": 295
        },
        "id": "fFkkuh-XDgT8",
        "outputId": "de6ff5bc-e6b1-472c-a6da-6fdb4a1ed522"
      },
      "source": [
        "# Visualising the trained model and testing it on our test set\n",
        "plt.scatter(X_test,y_test,color='red')\n",
        "plt.plot(X_train, regressor.predict(X_train),color='blue')\n",
        "plt.title('Test Set')\n",
        "plt.xlabel('Weight')\n",
        "plt.ylabel('Height')\n",
        "plt.show()"
      ],
      "execution_count": 9,
      "outputs": [
        {
          "output_type": "display_data",
          "data": {
            "image/png": "[encoded data removed]",
            "text/plain": [
              "<Figure size 432x288 with 1 Axes>"
            ]
          },
          "metadata": {
            "needs_background": "light"
          }
        }
      ]
    },
    {
      "cell_type": "code",
      "metadata": {
        "colab": {
          "base_uri": "https://localhost:8080/"
        },
        "id": "O4o9US-5DgWi",
        "outputId": "43174978-7587-40ea-a3aa-83c54ecfbd66"
      },
      "source": [
        "# Predicting the weight for any given height\n",
        "print('For a person having height as 163 his predicted weight will be:',regressor.predict([[166]]))"
      ],
      "execution_count": 15,
      "outputs": [
        {
          "output_type": "stream",
          "name": "stdout",
          "text": [
            "For a person having height as 163 his predicted weight will be: [[63.66305782]]\n"
          ]
        }
      ]
    }
  ]
}